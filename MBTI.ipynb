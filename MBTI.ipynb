{
  "nbformat": 4,
  "nbformat_minor": 0,
  "metadata": {
    "colab": {
      "provenance": [],
      "authorship_tag": "ABX9TyNJSvHmAeVaGE3gg7Eb3Xip",
      "include_colab_link": true
    },
    "kernelspec": {
      "name": "python3",
      "display_name": "Python 3"
    },
    "language_info": {
      "name": "python"
    },
    "widgets": {
      "application/vnd.jupyter.widget-state+json": {
        "df1136e8309e4e0c8ec696249c18d246": {
          "model_module": "@jupyter-widgets/controls",
          "model_name": "LabelModel",
          "model_module_version": "1.5.0",
          "state": {
            "_dom_classes": [],
            "_model_module": "@jupyter-widgets/controls",
            "_model_module_version": "1.5.0",
            "_model_name": "LabelModel",
            "_view_count": null,
            "_view_module": "@jupyter-widgets/controls",
            "_view_module_version": "1.5.0",
            "_view_name": "LabelView",
            "description": "",
            "description_tooltip": null,
            "layout": "IPY_MODEL_d6c87bc4ac3e4c94943495e157187b71",
            "placeholder": "​",
            "style": "IPY_MODEL_4b0e036f8d64457e97ae744d4f5fedb3",
            "value": "他の人と一緒にいるとエネルギーが湧きますか？"
          }
        },
        "d6c87bc4ac3e4c94943495e157187b71": {
          "model_module": "@jupyter-widgets/base",
          "model_name": "LayoutModel",
          "model_module_version": "1.2.0",
          "state": {
            "_model_module": "@jupyter-widgets/base",
            "_model_module_version": "1.2.0",
            "_model_name": "LayoutModel",
            "_view_count": null,
            "_view_module": "@jupyter-widgets/base",
            "_view_module_version": "1.2.0",
            "_view_name": "LayoutView",
            "align_content": null,
            "align_items": null,
            "align_self": null,
            "border": null,
            "bottom": null,
            "display": null,
            "flex": null,
            "flex_flow": null,
            "grid_area": null,
            "grid_auto_columns": null,
            "grid_auto_flow": null,
            "grid_auto_rows": null,
            "grid_column": null,
            "grid_gap": null,
            "grid_row": null,
            "grid_template_areas": null,
            "grid_template_columns": null,
            "grid_template_rows": null,
            "height": null,
            "justify_content": null,
            "justify_items": null,
            "left": null,
            "margin": null,
            "max_height": null,
            "max_width": null,
            "min_height": null,
            "min_width": null,
            "object_fit": null,
            "object_position": null,
            "order": null,
            "overflow": null,
            "overflow_x": null,
            "overflow_y": null,
            "padding": null,
            "right": null,
            "top": null,
            "visibility": null,
            "width": null
          }
        },
        "4b0e036f8d64457e97ae744d4f5fedb3": {
          "model_module": "@jupyter-widgets/controls",
          "model_name": "DescriptionStyleModel",
          "model_module_version": "1.5.0",
          "state": {
            "_model_module": "@jupyter-widgets/controls",
            "_model_module_version": "1.5.0",
            "_model_name": "DescriptionStyleModel",
            "_view_count": null,
            "_view_module": "@jupyter-widgets/base",
            "_view_module_version": "1.2.0",
            "_view_name": "StyleView",
            "description_width": ""
          }
        },
        "b8b026cba67f43108a9bff637ccf8a97": {
          "model_module": "@jupyter-widgets/controls",
          "model_name": "HBoxModel",
          "model_module_version": "1.5.0",
          "state": {
            "_dom_classes": [],
            "_model_module": "@jupyter-widgets/controls",
            "_model_module_version": "1.5.0",
            "_model_name": "HBoxModel",
            "_view_count": null,
            "_view_module": "@jupyter-widgets/controls",
            "_view_module_version": "1.5.0",
            "_view_name": "HBoxView",
            "box_style": "",
            "children": [
              "IPY_MODEL_4ddf91e936894e5ba54a0b7562f1b750",
              "IPY_MODEL_97fc10d0d6674179875f02764ba7bb4e"
            ],
            "layout": "IPY_MODEL_f9f33abd9aa643959b461c907551a67d"
          }
        },
        "4ddf91e936894e5ba54a0b7562f1b750": {
          "model_module": "@jupyter-widgets/controls",
          "model_name": "ButtonModel",
          "model_module_version": "1.5.0",
          "state": {
            "_dom_classes": [],
            "_model_module": "@jupyter-widgets/controls",
            "_model_module_version": "1.5.0",
            "_model_name": "ButtonModel",
            "_view_count": null,
            "_view_module": "@jupyter-widgets/controls",
            "_view_module_version": "1.5.0",
            "_view_name": "ButtonView",
            "button_style": "",
            "description": "Yes",
            "disabled": false,
            "icon": "",
            "layout": "IPY_MODEL_6f407e7e3f204ad79c701a9b363a5410",
            "style": "IPY_MODEL_dd158590f21942d08d0205db74473c50",
            "tooltip": ""
          }
        },
        "97fc10d0d6674179875f02764ba7bb4e": {
          "model_module": "@jupyter-widgets/controls",
          "model_name": "ButtonModel",
          "model_module_version": "1.5.0",
          "state": {
            "_dom_classes": [],
            "_model_module": "@jupyter-widgets/controls",
            "_model_module_version": "1.5.0",
            "_model_name": "ButtonModel",
            "_view_count": null,
            "_view_module": "@jupyter-widgets/controls",
            "_view_module_version": "1.5.0",
            "_view_name": "ButtonView",
            "button_style": "",
            "description": "No",
            "disabled": false,
            "icon": "",
            "layout": "IPY_MODEL_1db4d432aaf149b2b920729256088e40",
            "style": "IPY_MODEL_ed9010b1d6b34a8db242e024df5498de",
            "tooltip": ""
          }
        },
        "f9f33abd9aa643959b461c907551a67d": {
          "model_module": "@jupyter-widgets/base",
          "model_name": "LayoutModel",
          "model_module_version": "1.2.0",
          "state": {
            "_model_module": "@jupyter-widgets/base",
            "_model_module_version": "1.2.0",
            "_model_name": "LayoutModel",
            "_view_count": null,
            "_view_module": "@jupyter-widgets/base",
            "_view_module_version": "1.2.0",
            "_view_name": "LayoutView",
            "align_content": null,
            "align_items": null,
            "align_self": null,
            "border": null,
            "bottom": null,
            "display": null,
            "flex": null,
            "flex_flow": null,
            "grid_area": null,
            "grid_auto_columns": null,
            "grid_auto_flow": null,
            "grid_auto_rows": null,
            "grid_column": null,
            "grid_gap": null,
            "grid_row": null,
            "grid_template_areas": null,
            "grid_template_columns": null,
            "grid_template_rows": null,
            "height": null,
            "justify_content": null,
            "justify_items": null,
            "left": null,
            "margin": null,
            "max_height": null,
            "max_width": null,
            "min_height": null,
            "min_width": null,
            "object_fit": null,
            "object_position": null,
            "order": null,
            "overflow": null,
            "overflow_x": null,
            "overflow_y": null,
            "padding": null,
            "right": null,
            "top": null,
            "visibility": null,
            "width": null
          }
        },
        "6f407e7e3f204ad79c701a9b363a5410": {
          "model_module": "@jupyter-widgets/base",
          "model_name": "LayoutModel",
          "model_module_version": "1.2.0",
          "state": {
            "_model_module": "@jupyter-widgets/base",
            "_model_module_version": "1.2.0",
            "_model_name": "LayoutModel",
            "_view_count": null,
            "_view_module": "@jupyter-widgets/base",
            "_view_module_version": "1.2.0",
            "_view_name": "LayoutView",
            "align_content": null,
            "align_items": null,
            "align_self": null,
            "border": null,
            "bottom": null,
            "display": null,
            "flex": null,
            "flex_flow": null,
            "grid_area": null,
            "grid_auto_columns": null,
            "grid_auto_flow": null,
            "grid_auto_rows": null,
            "grid_column": null,
            "grid_gap": null,
            "grid_row": null,
            "grid_template_areas": null,
            "grid_template_columns": null,
            "grid_template_rows": null,
            "height": "120px",
            "justify_content": null,
            "justify_items": null,
            "left": null,
            "margin": null,
            "max_height": null,
            "max_width": null,
            "min_height": null,
            "min_width": null,
            "object_fit": null,
            "object_position": null,
            "order": null,
            "overflow": null,
            "overflow_x": null,
            "overflow_y": null,
            "padding": null,
            "right": null,
            "top": null,
            "visibility": null,
            "width": "120px"
          }
        },
        "dd158590f21942d08d0205db74473c50": {
          "model_module": "@jupyter-widgets/controls",
          "model_name": "ButtonStyleModel",
          "model_module_version": "1.5.0",
          "state": {
            "_model_module": "@jupyter-widgets/controls",
            "_model_module_version": "1.5.0",
            "_model_name": "ButtonStyleModel",
            "_view_count": null,
            "_view_module": "@jupyter-widgets/base",
            "_view_module_version": "1.2.0",
            "_view_name": "StyleView",
            "button_color": null,
            "font_weight": ""
          }
        },
        "1db4d432aaf149b2b920729256088e40": {
          "model_module": "@jupyter-widgets/base",
          "model_name": "LayoutModel",
          "model_module_version": "1.2.0",
          "state": {
            "_model_module": "@jupyter-widgets/base",
            "_model_module_version": "1.2.0",
            "_model_name": "LayoutModel",
            "_view_count": null,
            "_view_module": "@jupyter-widgets/base",
            "_view_module_version": "1.2.0",
            "_view_name": "LayoutView",
            "align_content": null,
            "align_items": null,
            "align_self": null,
            "border": null,
            "bottom": null,
            "display": null,
            "flex": null,
            "flex_flow": null,
            "grid_area": null,
            "grid_auto_columns": null,
            "grid_auto_flow": null,
            "grid_auto_rows": null,
            "grid_column": null,
            "grid_gap": null,
            "grid_row": null,
            "grid_template_areas": null,
            "grid_template_columns": null,
            "grid_template_rows": null,
            "height": "120px",
            "justify_content": null,
            "justify_items": null,
            "left": null,
            "margin": null,
            "max_height": null,
            "max_width": null,
            "min_height": null,
            "min_width": null,
            "object_fit": null,
            "object_position": null,
            "order": null,
            "overflow": null,
            "overflow_x": null,
            "overflow_y": null,
            "padding": null,
            "right": null,
            "top": null,
            "visibility": null,
            "width": "120px"
          }
        },
        "ed9010b1d6b34a8db242e024df5498de": {
          "model_module": "@jupyter-widgets/controls",
          "model_name": "ButtonStyleModel",
          "model_module_version": "1.5.0",
          "state": {
            "_model_module": "@jupyter-widgets/controls",
            "_model_module_version": "1.5.0",
            "_model_name": "ButtonStyleModel",
            "_view_count": null,
            "_view_module": "@jupyter-widgets/base",
            "_view_module_version": "1.2.0",
            "_view_name": "StyleView",
            "button_color": null,
            "font_weight": ""
          }
        },
        "f43698f89ecb4eefb5d3124602b4866d": {
          "model_module": "@jupyter-widgets/controls",
          "model_name": "LabelModel",
          "model_module_version": "1.5.0",
          "state": {
            "_dom_classes": [],
            "_model_module": "@jupyter-widgets/controls",
            "_model_module_version": "1.5.0",
            "_model_name": "LabelModel",
            "_view_count": null,
            "_view_module": "@jupyter-widgets/controls",
            "_view_module_version": "1.5.0",
            "_view_name": "LabelView",
            "description": "",
            "description_tooltip": null,
            "layout": "IPY_MODEL_d88a05f3e8644cd3ad10b925bea21ddb",
            "placeholder": "​",
            "style": "IPY_MODEL_f7292d3fc5c442f8a1e8a14ffff50e33",
            "value": ""
          }
        },
        "d88a05f3e8644cd3ad10b925bea21ddb": {
          "model_module": "@jupyter-widgets/base",
          "model_name": "LayoutModel",
          "model_module_version": "1.2.0",
          "state": {
            "_model_module": "@jupyter-widgets/base",
            "_model_module_version": "1.2.0",
            "_model_name": "LayoutModel",
            "_view_count": null,
            "_view_module": "@jupyter-widgets/base",
            "_view_module_version": "1.2.0",
            "_view_name": "LayoutView",
            "align_content": null,
            "align_items": null,
            "align_self": null,
            "border": null,
            "bottom": null,
            "display": null,
            "flex": null,
            "flex_flow": null,
            "grid_area": null,
            "grid_auto_columns": null,
            "grid_auto_flow": null,
            "grid_auto_rows": null,
            "grid_column": null,
            "grid_gap": null,
            "grid_row": null,
            "grid_template_areas": null,
            "grid_template_columns": null,
            "grid_template_rows": null,
            "height": null,
            "justify_content": null,
            "justify_items": null,
            "left": null,
            "margin": null,
            "max_height": null,
            "max_width": null,
            "min_height": null,
            "min_width": null,
            "object_fit": null,
            "object_position": null,
            "order": null,
            "overflow": null,
            "overflow_x": null,
            "overflow_y": null,
            "padding": null,
            "right": null,
            "top": null,
            "visibility": null,
            "width": null
          }
        },
        "f7292d3fc5c442f8a1e8a14ffff50e33": {
          "model_module": "@jupyter-widgets/controls",
          "model_name": "DescriptionStyleModel",
          "model_module_version": "1.5.0",
          "state": {
            "_model_module": "@jupyter-widgets/controls",
            "_model_module_version": "1.5.0",
            "_model_name": "DescriptionStyleModel",
            "_view_count": null,
            "_view_module": "@jupyter-widgets/base",
            "_view_module_version": "1.2.0",
            "_view_name": "StyleView",
            "description_width": ""
          }
        }
      }
    }
  },
  "cells": [
    {
      "cell_type": "markdown",
      "metadata": {
        "id": "view-in-github",
        "colab_type": "text"
      },
      "source": [
        "<a href=\"https://colab.research.google.com/github/kyo-1013/MBTI/blob/main/MBTI.ipynb\" target=\"_parent\"><img src=\"https://colab.research.google.com/assets/colab-badge.svg\" alt=\"Open In Colab\"/></a>"
      ]
    },
    {
      "cell_type": "code",
      "source": [
        "import pandas as pd\n",
        "import numpy as np\n",
        "from sklearn.model_selection import train_test_split\n",
        "from sklearn.ensemble import RandomForestClassifier\n",
        "from sklearn.metrics import accuracy_score\n",
        "from IPython.display import display, Image as IPImage\n",
        "import ipywidgets as widgets"
      ],
      "metadata": {
        "id": "AAjzDIrfDepo"
      },
      "execution_count": null,
      "outputs": []
    },
    {
      "cell_type": "code",
      "source": [
        "# 質問リスト\n",
        "questions = [\n",
        "    \"他の人と一緒にいるとエネルギーが湧きますか？\",\n",
        "    \"新しい人に会うのが好きですか？\",\n",
        "    \"一人で過ごすことがリフレッシュにつながりますか？\",\n",
        "    \"計画を立てることは重要ですか？\",\n",
        "    \"社交的な場に参加するのは楽しいですか？\",\n",
        "    \"過去の経験から学ぶことは重要ですか？\",\n",
        "    \"新しい挑戦に対して興奮しますか？\",\n",
        "    \"物事を深く考えるのが好きですか？\",\n",
        "    \"細部に注意を払うことが得意ですか？\",\n",
        "    \"自分の直感を信じますか？\",\n",
        "    \"変化を受け入れるのは得意ですか？\",\n",
        "    \"計画を立てるよりも即興で行動することが多いですか？\",\n",
        "    \"他人と過ごす時間が多い方が幸せを感じますか？\",\n",
        "    \"経験よりも新しいアイデアを重視しますか？\",\n",
        "    \"現実的な問題解決が得意ですか？\",\n",
        "    \"一度決めた計画を守ることが重要ですか？\",\n",
        "    \"他人の感情に敏感ですか？\",\n",
        "    \"個人的な空間が必要だと感じますか？\",\n",
        "    \"新しい情報に興味を持ちますか？\",\n",
        "    \"目標達成に向けて計画を立てますか？\",\n",
        "    \"他人の意見を尊重しますか？\",\n",
        "    \"直感を信じて決断することが多いですか？\",\n",
        "    \"事前に計画を立てることが得意ですか？\",\n",
        "    \"複雑な問題を解決するのが好きですか？\",\n",
        "    \"人との関係を築くのが得意ですか？\",\n",
        "    \"大きな目標を持っている方がやる気が出ますか？\",\n",
        "    \"安定した環境を好みますか？\",\n",
        "    \"人々の感情に共感することが多いですか？\",\n",
        "    \"自分の直感を頼りに決断しますか？\",\n",
        "    \"物事を分析してから決めることが多いですか？\",\n",
        "    \"自分の信念を貫くことが大切だと思いますか？\",\n",
        "    \"プロジェクトを管理するのが得意ですか？\",\n",
        "    \"新しい状況に柔軟に対応できますか？\",\n",
        "    \"自分の感情を表現するのが得意ですか？\",\n",
        "    \"他人の期待に応えることが重要だと思いますか？\",\n",
        "    \"計画通りに物事を進めることが好きですか？\",\n",
        "    \"現実的なアプローチを好みますか？\",\n",
        "    \"自己表現に重きを置きますか？\",\n",
        "    \"周囲の人と協力して目標を達成するのが得意ですか？\",\n",
        "    \"決断する前に多くの情報を集めますか？\",\n",
        "    \"計画を変更することに柔軟ですか？\",\n",
        "    \"大きな夢を持つ方がやる気が出ますか？\",\n",
        "    \"他人の助けを受け入れるのが得意ですか？\",\n",
        "    \"物事を深く理解することが好きですか？\",\n",
        "    \"アイデアを共有するのが得意ですか？\",\n",
        "    \"自分の意見を他人に伝えることが得意ですか？\",\n",
        "    \"問題解決に対して創造的なアプローチを好みますか？\",\n",
        "    \"新しい体験をするのが好きですか？\",\n",
        "    \"他人の感情に気を使うことが多いですか？\",\n",
        "    \"自分のアイデアを実現することが好きですか？\",\n",
        "    \"目標を達成するために綿密な計画を立てますか？\",\n",
        "    \"物事を直感で決めることが多いですか？\",\n",
        "    \"新しい情報に対して常に興味を持っていますか？\",\n",
        "    \"自分のアイデアを周囲と共有するのが好きですか？\",\n",
        "    \"自分の信念を守ることが重要だと思いますか？\",\n",
        "    \"問題解決に対して創造的なアプローチを好みますか？\",\n",
        "    \"新しい体験をすることで成長を感じますか？\",\n",
        "    \"他人と協力することで物事を進めるのが好きですか？\",\n",
        "    \"自分の感情を他人と共有することが得意ですか？\",\n",
        "    \"計画に従うことが重要だと感じますか？\",\n",
        "    \"他人の意見よりも自分のアイデアを重視しますか？\",\n",
        "    \"目標達成に向けて計画を立てることが得意ですか？\",\n",
        "    \"自分の感情を他人に表現するのが得意ですか？\",\n",
        "    \"新しい情報に対する好奇心が強いですか？\"\n",
        "]"
      ],
      "metadata": {
        "id": "7Qj5gP-VvpPo"
      },
      "execution_count": null,
      "outputs": []
    },
    {
      "cell_type": "code",
      "source": [
        "np.random.seed(42)\n",
        "num_samples = 500\n",
        "num_questions = 63\n",
        "\n",
        "responses = np.random.randint(0, 2, size=(num_samples, num_questions))\n",
        "\n",
        "mbti_types = np.random.choice(\n",
        "    ['INTJ', 'INFP', 'INFJ', 'ENTJ', 'ENTP', 'ENFP', 'ESFJ', 'ESFP', 'ESTJ', 'ESTP', 'ISTJ', 'ISTP', 'ISFJ', 'ISFP', 'INTP', 'ENFJ'],\n",
        "    size=num_samples\n",
        ")"
      ],
      "metadata": {
        "id": "hIoqFlupvxqB"
      },
      "execution_count": null,
      "outputs": []
    },
    {
      "cell_type": "code",
      "source": [
        "data = pd.DataFrame(responses, columns=[f'Q{i+1}' for i in range(num_questions)])\n",
        "data['MBTI'] = mbti_types\n",
        "\n",
        "# 特徴量とターゲットを分離\n",
        "X = data.drop('MBTI', axis=1)\n",
        "y = data['MBTI']\n",
        "\n",
        "# データをトレーニングセットとテストセットに分割\n",
        "X_train, X_test, y_train, y_test = train_test_split(X, y, test_size=0.2, random_state=42)\n",
        "\n",
        "# モデルの訓練\n",
        "model = RandomForestClassifier()\n",
        "model.fit(X_train, y_train)\n",
        "\n",
        "# 精度の確認\n",
        "y_pred = model.predict(X_test)\n",
        "print(f\"Accuracy: {accuracy_score(y_test, y_pred)}\")"
      ],
      "metadata": {
        "colab": {
          "base_uri": "https://localhost:8080/"
        },
        "id": "hwFHLuk5v2mC",
        "outputId": "f75886b0-3631-4a5c-ae7b-196beb90d020"
      },
      "execution_count": null,
      "outputs": [
        {
          "output_type": "stream",
          "name": "stdout",
          "text": [
            "Accuracy: 0.05\n"
          ]
        }
      ]
    },
    {
      "cell_type": "code",
      "source": [
        "user_answers = []"
      ],
      "metadata": {
        "id": "sNpPSp4Dv8Fo"
      },
      "execution_count": null,
      "outputs": []
    },
    {
      "cell_type": "code",
      "source": [
        "# MBTIタイプごとの説明文\n",
        "mbti_descriptions = {\n",
        "   'INTJ':('あなたは分析的で、戦略的に物事を考える建築家タイプです。','INTJ.png'),\n",
        "    'INFP':('あなたは理想主義者で、深い感受性を持つ仲介者タイプです。', 'INFP.png'),\n",
        "    'INFJ':('あなたは直感的で、洞察力があり、洞察力のある提唱者タイプです。', 'INFJ.png'),\n",
        "    'ENTJ':('あなたは指導力があり、効率的に物事を進める指導者タイプです。','ENTJ.png'),\n",
        "    'ENTP':('あなたは革新的で、アイデアを追求する発明家タイプです。','ENTP.png'),\n",
        "    'ENFP':('あなたは情熱的で、創造的なアイデアを持つ提唱者タイプです。','ENFP.png'),\n",
        "    'ESFJ':('あなたは社交的で、他人を支えることに喜びを感じる支持者タイプです。','ESFJ.png'),\n",
        "    'ESFP':('あなたは楽しいことが好きで、周囲の人々を楽しませるエンターテイナータイプです。','ESFP.png'),\n",
        "    'ESTJ':('あなたは実践的で、効率的に物事を進める管理者タイプです。','ESTJ.png'),\n",
        "    'ESTP':('あなたは冒険心が強く、現実的なアプローチを好む活動家タイプです。','ESTP.png'),\n",
        "    'ISTJ':('あなたは規律正しく、信頼性があり、実行力のある管理者タイプです。','ISTJ.png'),\n",
        "    'ISTP':('あなたは冷静で、問題解決に優れた技術者タイプです。','ISTP.png'),\n",
        "    'ISFJ':('あなたは思いやりがあり、他人をサポートすることを大切にする保護者タイプです。','ISFJ.png'),\n",
        "    'ISFP':('あなたは内向的で、感受性が豊かで、創造的なアーティストタイプです。','ISFP.png'),\n",
        "    'INTP':('あなたは理論的で、探求心が強い発明家タイプです。','INTP.png'),\n",
        "    'ENFJ':('あなたはリーダーシップを発揮し、他人を鼓舞する教師タイプです。','ENFJ.png')\n",
        "}"
      ],
      "metadata": {
        "id": "BTExsbmfv_hE"
      },
      "execution_count": null,
      "outputs": []
    },
    {
      "cell_type": "code",
      "source": [
        "question_label = widgets.Label(value=questions[0])\n",
        "result_label = widgets.Label(value=\"\")"
      ],
      "metadata": {
        "id": "9X5d9DgNwEDh"
      },
      "execution_count": null,
      "outputs": []
    },
    {
      "cell_type": "code",
      "source": [
        "def on_button_click(answer):\n",
        "    user_answers.append(answer)\n",
        "\n",
        "    if len(user_answers) < num_questions:  # num_questionsは63に設定されている\n",
        "        question_label.value = questions[len(user_answers)]\n",
        "    else:\n",
        "        # 回答が63個に達した場合のみ予測を行う\n",
        "        if len(user_answers) == num_questions:\n",
        "            predict_mbti()"
      ],
      "metadata": {
        "id": "RjZTtoc5wHit"
      },
      "execution_count": null,
      "outputs": []
    },
    {
      "cell_type": "code",
      "source": [
        "def predict_mbti():\n",
        "    # user_answers を正しい形状に変換\n",
        "      user_answers_reshaped = np.array(user_answers).reshape(1, -1)\n",
        "\n",
        "      # 予測を行う\n",
        "      predicted_mbti = model.predict(user_answers_reshaped)[0]\n",
        "\n",
        "      # 結果を表示\n",
        "      display_result(predicted_mbti)"
      ],
      "metadata": {
        "id": "wcAXxXC8wKsg"
      },
      "execution_count": null,
      "outputs": []
    },
    {
      "cell_type": "code",
      "source": [
        "def display_result(predicted_mbti):\n",
        "    description, image_path = mbti_descriptions.get(predicted_mbti, (\"説明が見つかりませんでした。\", None))\n",
        "\n",
        "    # 説明を表示\n",
        "    result_label.value = f\"あなたのMBTIタイプは: {predicted_mbti}です！\\n{description}\"\n",
        "\n",
        "    # 画像を表示\n",
        "    if image_path:\n",
        "        display(IPImage(image_path))"
      ],
      "metadata": {
        "id": "O8g-qHrcwNu6"
      },
      "execution_count": null,
      "outputs": []
    },
    {
      "cell_type": "code",
      "source": [
        "# ボタン作成\n",
        "yes_button = widgets.Button(description=\"Yes\", layout=widgets.Layout(width=\"120px\", height=\"120px\"))\n",
        "no_button = widgets.Button(description=\"No\", layout=widgets.Layout(width=\"120px\", height=\"120px\"))\n"
      ],
      "metadata": {
        "id": "-pTYjmOXwRYg"
      },
      "execution_count": null,
      "outputs": []
    },
    {
      "cell_type": "code",
      "source": [
        "# ボタンのクリックイベントを登録\n",
        "yes_button.on_click(lambda b: on_button_click(1))\n",
        "no_button.on_click(lambda b: on_button_click(0))"
      ],
      "metadata": {
        "id": "Mv3wFM9QwUBe"
      },
      "execution_count": null,
      "outputs": []
    },
    {
      "cell_type": "code",
      "source": [
        "# UIの表示\n",
        "display(question_label)\n",
        "display(widgets.HBox([yes_button, no_button]))\n",
        "display(result_label)"
      ],
      "metadata": {
        "colab": {
          "base_uri": "https://localhost:8080/",
          "height": 177,
          "referenced_widgets": [
            "df1136e8309e4e0c8ec696249c18d246",
            "d6c87bc4ac3e4c94943495e157187b71",
            "4b0e036f8d64457e97ae744d4f5fedb3",
            "b8b026cba67f43108a9bff637ccf8a97",
            "4ddf91e936894e5ba54a0b7562f1b750",
            "97fc10d0d6674179875f02764ba7bb4e",
            "f9f33abd9aa643959b461c907551a67d",
            "6f407e7e3f204ad79c701a9b363a5410",
            "dd158590f21942d08d0205db74473c50",
            "1db4d432aaf149b2b920729256088e40",
            "ed9010b1d6b34a8db242e024df5498de",
            "f43698f89ecb4eefb5d3124602b4866d",
            "d88a05f3e8644cd3ad10b925bea21ddb",
            "f7292d3fc5c442f8a1e8a14ffff50e33"
          ]
        },
        "id": "LglErO0hwUvz",
        "outputId": "915554da-2890-4980-a4b9-0cc022fc9768"
      },
      "execution_count": null,
      "outputs": [
        {
          "output_type": "display_data",
          "data": {
            "text/plain": [
              "Label(value='他の人と一緒にいるとエネルギーが湧きますか？')"
            ],
            "application/vnd.jupyter.widget-view+json": {
              "version_major": 2,
              "version_minor": 0,
              "model_id": "df1136e8309e4e0c8ec696249c18d246"
            }
          },
          "metadata": {}
        },
        {
          "output_type": "display_data",
          "data": {
            "text/plain": [
              "HBox(children=(Button(description='Yes', layout=Layout(height='120px', width='120px'), style=ButtonStyle()), B…"
            ],
            "application/vnd.jupyter.widget-view+json": {
              "version_major": 2,
              "version_minor": 0,
              "model_id": "b8b026cba67f43108a9bff637ccf8a97"
            }
          },
          "metadata": {}
        },
        {
          "output_type": "display_data",
          "data": {
            "text/plain": [
              "Label(value='')"
            ],
            "application/vnd.jupyter.widget-view+json": {
              "version_major": 2,
              "version_minor": 0,
              "model_id": "f43698f89ecb4eefb5d3124602b4866d"
            }
          },
          "metadata": {}
        }
      ]
    }
  ]
}